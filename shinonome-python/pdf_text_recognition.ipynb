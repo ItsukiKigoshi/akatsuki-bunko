{
 "cells": [
  {
   "cell_type": "code",
   "id": "initial_id",
   "metadata": {
    "collapsed": true,
    "ExecuteTime": {
     "end_time": "2025-01-24T01:53:50.609657Z",
     "start_time": "2025-01-24T01:53:50.594758Z"
    }
   },
   "source": [
    "# poppler should be installed on your device to use pdf2image\n",
    "from pdf2image import convert_from_path\n",
    "import pytesseract"
   ],
   "outputs": [],
   "execution_count": 5
  },
  {
   "metadata": {
    "ExecuteTime": {
     "end_time": "2025-01-24T01:58:55.165456Z",
     "start_time": "2025-01-24T01:58:54.416297Z"
    }
   },
   "cell_type": "code",
   "source": [
    "# CMakeのインストールが必要であり，筆者のMacではインストール不可であるため以下のコード実行を断念\n",
    "# This code is generated with ChatGPT\n",
    "# PDFを画像に変換\n",
    "pages = convert_from_path('src/text_recognition/resource/蝸牛考_1823865_0001.pdf', dpi=300)\n",
    "\n",
    "# 各ページをOCR処理\n",
    "for i, page in enumerate(pages):\n",
    "    # 画像を保存してOCR実行\n",
    "    page.save(f'page_{i}.jpg', 'JPEG')\n",
    "    text = pytesseract.image_to_string(page, lang='jpn', config='--psm 5')\n",
    "    print(f\"Page {i + 1}:\\n{text}\\n\")"
   ],
   "id": "3801f57dbdfb0438",
   "outputs": [
    {
     "ename": "PDFInfoNotInstalledError",
     "evalue": "Unable to get page count. Is poppler installed and in PATH?",
     "output_type": "error",
     "traceback": [
      "\u001B[0;31m---------------------------------------------------------------------------\u001B[0m",
      "\u001B[0;31mFileNotFoundError\u001B[0m                         Traceback (most recent call last)",
      "File \u001B[0;32m/Library/Frameworks/Python.framework/Versions/3.9/lib/python3.9/site-packages/pdf2image/pdf2image.py:581\u001B[0m, in \u001B[0;36mpdfinfo_from_path\u001B[0;34m(pdf_path, userpw, ownerpw, poppler_path, rawdates, timeout, first_page, last_page)\u001B[0m\n\u001B[1;32m    580\u001B[0m     env[\u001B[38;5;124m\"\u001B[39m\u001B[38;5;124mLD_LIBRARY_PATH\u001B[39m\u001B[38;5;124m\"\u001B[39m] \u001B[38;5;241m=\u001B[39m poppler_path \u001B[38;5;241m+\u001B[39m \u001B[38;5;124m\"\u001B[39m\u001B[38;5;124m:\u001B[39m\u001B[38;5;124m\"\u001B[39m \u001B[38;5;241m+\u001B[39m env\u001B[38;5;241m.\u001B[39mget(\u001B[38;5;124m\"\u001B[39m\u001B[38;5;124mLD_LIBRARY_PATH\u001B[39m\u001B[38;5;124m\"\u001B[39m, \u001B[38;5;124m\"\u001B[39m\u001B[38;5;124m\"\u001B[39m)\n\u001B[0;32m--> 581\u001B[0m proc \u001B[38;5;241m=\u001B[39m \u001B[43mPopen\u001B[49m\u001B[43m(\u001B[49m\u001B[43mcommand\u001B[49m\u001B[43m,\u001B[49m\u001B[43m \u001B[49m\u001B[43menv\u001B[49m\u001B[38;5;241;43m=\u001B[39;49m\u001B[43menv\u001B[49m\u001B[43m,\u001B[49m\u001B[43m \u001B[49m\u001B[43mstdout\u001B[49m\u001B[38;5;241;43m=\u001B[39;49m\u001B[43mPIPE\u001B[49m\u001B[43m,\u001B[49m\u001B[43m \u001B[49m\u001B[43mstderr\u001B[49m\u001B[38;5;241;43m=\u001B[39;49m\u001B[43mPIPE\u001B[49m\u001B[43m)\u001B[49m\n\u001B[1;32m    583\u001B[0m \u001B[38;5;28;01mtry\u001B[39;00m:\n",
      "File \u001B[0;32m/Library/Frameworks/Python.framework/Versions/3.9/lib/python3.9/subprocess.py:951\u001B[0m, in \u001B[0;36mPopen.__init__\u001B[0;34m(self, args, bufsize, executable, stdin, stdout, stderr, preexec_fn, close_fds, shell, cwd, env, universal_newlines, startupinfo, creationflags, restore_signals, start_new_session, pass_fds, user, group, extra_groups, encoding, errors, text, umask)\u001B[0m\n\u001B[1;32m    948\u001B[0m             \u001B[38;5;28mself\u001B[39m\u001B[38;5;241m.\u001B[39mstderr \u001B[38;5;241m=\u001B[39m io\u001B[38;5;241m.\u001B[39mTextIOWrapper(\u001B[38;5;28mself\u001B[39m\u001B[38;5;241m.\u001B[39mstderr,\n\u001B[1;32m    949\u001B[0m                     encoding\u001B[38;5;241m=\u001B[39mencoding, errors\u001B[38;5;241m=\u001B[39merrors)\n\u001B[0;32m--> 951\u001B[0m     \u001B[38;5;28;43mself\u001B[39;49m\u001B[38;5;241;43m.\u001B[39;49m\u001B[43m_execute_child\u001B[49m\u001B[43m(\u001B[49m\u001B[43margs\u001B[49m\u001B[43m,\u001B[49m\u001B[43m \u001B[49m\u001B[43mexecutable\u001B[49m\u001B[43m,\u001B[49m\u001B[43m \u001B[49m\u001B[43mpreexec_fn\u001B[49m\u001B[43m,\u001B[49m\u001B[43m \u001B[49m\u001B[43mclose_fds\u001B[49m\u001B[43m,\u001B[49m\n\u001B[1;32m    952\u001B[0m \u001B[43m                        \u001B[49m\u001B[43mpass_fds\u001B[49m\u001B[43m,\u001B[49m\u001B[43m \u001B[49m\u001B[43mcwd\u001B[49m\u001B[43m,\u001B[49m\u001B[43m \u001B[49m\u001B[43menv\u001B[49m\u001B[43m,\u001B[49m\n\u001B[1;32m    953\u001B[0m \u001B[43m                        \u001B[49m\u001B[43mstartupinfo\u001B[49m\u001B[43m,\u001B[49m\u001B[43m \u001B[49m\u001B[43mcreationflags\u001B[49m\u001B[43m,\u001B[49m\u001B[43m \u001B[49m\u001B[43mshell\u001B[49m\u001B[43m,\u001B[49m\n\u001B[1;32m    954\u001B[0m \u001B[43m                        \u001B[49m\u001B[43mp2cread\u001B[49m\u001B[43m,\u001B[49m\u001B[43m \u001B[49m\u001B[43mp2cwrite\u001B[49m\u001B[43m,\u001B[49m\n\u001B[1;32m    955\u001B[0m \u001B[43m                        \u001B[49m\u001B[43mc2pread\u001B[49m\u001B[43m,\u001B[49m\u001B[43m \u001B[49m\u001B[43mc2pwrite\u001B[49m\u001B[43m,\u001B[49m\n\u001B[1;32m    956\u001B[0m \u001B[43m                        \u001B[49m\u001B[43merrread\u001B[49m\u001B[43m,\u001B[49m\u001B[43m \u001B[49m\u001B[43merrwrite\u001B[49m\u001B[43m,\u001B[49m\n\u001B[1;32m    957\u001B[0m \u001B[43m                        \u001B[49m\u001B[43mrestore_signals\u001B[49m\u001B[43m,\u001B[49m\n\u001B[1;32m    958\u001B[0m \u001B[43m                        \u001B[49m\u001B[43mgid\u001B[49m\u001B[43m,\u001B[49m\u001B[43m \u001B[49m\u001B[43mgids\u001B[49m\u001B[43m,\u001B[49m\u001B[43m \u001B[49m\u001B[43muid\u001B[49m\u001B[43m,\u001B[49m\u001B[43m \u001B[49m\u001B[43mumask\u001B[49m\u001B[43m,\u001B[49m\n\u001B[1;32m    959\u001B[0m \u001B[43m                        \u001B[49m\u001B[43mstart_new_session\u001B[49m\u001B[43m)\u001B[49m\n\u001B[1;32m    960\u001B[0m \u001B[38;5;28;01mexcept\u001B[39;00m:\n\u001B[1;32m    961\u001B[0m     \u001B[38;5;66;03m# Cleanup if the child failed starting.\u001B[39;00m\n",
      "File \u001B[0;32m/Library/Frameworks/Python.framework/Versions/3.9/lib/python3.9/subprocess.py:1821\u001B[0m, in \u001B[0;36mPopen._execute_child\u001B[0;34m(self, args, executable, preexec_fn, close_fds, pass_fds, cwd, env, startupinfo, creationflags, shell, p2cread, p2cwrite, c2pread, c2pwrite, errread, errwrite, restore_signals, gid, gids, uid, umask, start_new_session)\u001B[0m\n\u001B[1;32m   1820\u001B[0m         err_msg \u001B[38;5;241m=\u001B[39m os\u001B[38;5;241m.\u001B[39mstrerror(errno_num)\n\u001B[0;32m-> 1821\u001B[0m     \u001B[38;5;28;01mraise\u001B[39;00m child_exception_type(errno_num, err_msg, err_filename)\n\u001B[1;32m   1822\u001B[0m \u001B[38;5;28;01mraise\u001B[39;00m child_exception_type(err_msg)\n",
      "\u001B[0;31mFileNotFoundError\u001B[0m: [Errno 2] No such file or directory: 'pdfinfo'",
      "\nDuring handling of the above exception, another exception occurred:\n",
      "\u001B[0;31mPDFInfoNotInstalledError\u001B[0m                  Traceback (most recent call last)",
      "Cell \u001B[0;32mIn[8], line 4\u001B[0m\n\u001B[1;32m      1\u001B[0m \u001B[38;5;66;03m# CMakeのインストールが必要であり，筆者のMacではインストール不可であるため以下のコード実行を断念\u001B[39;00m\n\u001B[1;32m      2\u001B[0m \u001B[38;5;66;03m# This code is generated with ChatGPT\u001B[39;00m\n\u001B[1;32m      3\u001B[0m \u001B[38;5;66;03m# PDFを画像に変換\u001B[39;00m\n\u001B[0;32m----> 4\u001B[0m pages \u001B[38;5;241m=\u001B[39m \u001B[43mconvert_from_path\u001B[49m\u001B[43m(\u001B[49m\u001B[38;5;124;43m'\u001B[39;49m\u001B[38;5;124;43msrc/text_recognition/resource/蝸牛考_1823865_0001.pdf\u001B[39;49m\u001B[38;5;124;43m'\u001B[39;49m\u001B[43m,\u001B[49m\u001B[43m \u001B[49m\u001B[43mdpi\u001B[49m\u001B[38;5;241;43m=\u001B[39;49m\u001B[38;5;241;43m300\u001B[39;49m\u001B[43m)\u001B[49m\n\u001B[1;32m      6\u001B[0m \u001B[38;5;66;03m# 各ページをOCR処理\u001B[39;00m\n\u001B[1;32m      7\u001B[0m \u001B[38;5;28;01mfor\u001B[39;00m i, page \u001B[38;5;129;01min\u001B[39;00m \u001B[38;5;28menumerate\u001B[39m(pages):\n\u001B[1;32m      8\u001B[0m     \u001B[38;5;66;03m# 画像を保存してOCR実行\u001B[39;00m\n",
      "File \u001B[0;32m/Library/Frameworks/Python.framework/Versions/3.9/lib/python3.9/site-packages/pdf2image/pdf2image.py:127\u001B[0m, in \u001B[0;36mconvert_from_path\u001B[0;34m(pdf_path, dpi, output_folder, first_page, last_page, fmt, jpegopt, thread_count, userpw, ownerpw, use_cropbox, strict, transparent, single_file, output_file, poppler_path, grayscale, size, paths_only, use_pdftocairo, timeout, hide_annotations)\u001B[0m\n\u001B[1;32m    124\u001B[0m \u001B[38;5;28;01mif\u001B[39;00m \u001B[38;5;28misinstance\u001B[39m(poppler_path, PurePath):\n\u001B[1;32m    125\u001B[0m     poppler_path \u001B[38;5;241m=\u001B[39m poppler_path\u001B[38;5;241m.\u001B[39mas_posix()\n\u001B[0;32m--> 127\u001B[0m page_count \u001B[38;5;241m=\u001B[39m \u001B[43mpdfinfo_from_path\u001B[49m\u001B[43m(\u001B[49m\n\u001B[1;32m    128\u001B[0m \u001B[43m    \u001B[49m\u001B[43mpdf_path\u001B[49m\u001B[43m,\u001B[49m\u001B[43m \u001B[49m\u001B[43muserpw\u001B[49m\u001B[43m,\u001B[49m\u001B[43m \u001B[49m\u001B[43mownerpw\u001B[49m\u001B[43m,\u001B[49m\u001B[43m \u001B[49m\u001B[43mpoppler_path\u001B[49m\u001B[38;5;241;43m=\u001B[39;49m\u001B[43mpoppler_path\u001B[49m\n\u001B[1;32m    129\u001B[0m \u001B[43m\u001B[49m\u001B[43m)\u001B[49m[\u001B[38;5;124m\"\u001B[39m\u001B[38;5;124mPages\u001B[39m\u001B[38;5;124m\"\u001B[39m]\n\u001B[1;32m    131\u001B[0m \u001B[38;5;66;03m# We start by getting the output format, the buffer processing function and if we need pdftocairo\u001B[39;00m\n\u001B[1;32m    132\u001B[0m parsed_fmt, final_extension, parse_buffer_func, use_pdfcairo_format \u001B[38;5;241m=\u001B[39m _parse_format(\n\u001B[1;32m    133\u001B[0m     fmt, grayscale\n\u001B[1;32m    134\u001B[0m )\n",
      "File \u001B[0;32m/Library/Frameworks/Python.framework/Versions/3.9/lib/python3.9/site-packages/pdf2image/pdf2image.py:607\u001B[0m, in \u001B[0;36mpdfinfo_from_path\u001B[0;34m(pdf_path, userpw, ownerpw, poppler_path, rawdates, timeout, first_page, last_page)\u001B[0m\n\u001B[1;32m    604\u001B[0m     \u001B[38;5;28;01mreturn\u001B[39;00m d\n\u001B[1;32m    606\u001B[0m \u001B[38;5;28;01mexcept\u001B[39;00m \u001B[38;5;167;01mOSError\u001B[39;00m:\n\u001B[0;32m--> 607\u001B[0m     \u001B[38;5;28;01mraise\u001B[39;00m PDFInfoNotInstalledError(\n\u001B[1;32m    608\u001B[0m         \u001B[38;5;124m\"\u001B[39m\u001B[38;5;124mUnable to get page count. Is poppler installed and in PATH?\u001B[39m\u001B[38;5;124m\"\u001B[39m\n\u001B[1;32m    609\u001B[0m     )\n\u001B[1;32m    610\u001B[0m \u001B[38;5;28;01mexcept\u001B[39;00m \u001B[38;5;167;01mValueError\u001B[39;00m:\n\u001B[1;32m    611\u001B[0m     \u001B[38;5;28;01mraise\u001B[39;00m PDFPageCountError(\n\u001B[1;32m    612\u001B[0m         \u001B[38;5;124mf\u001B[39m\u001B[38;5;124m\"\u001B[39m\u001B[38;5;124mUnable to get page count.\u001B[39m\u001B[38;5;130;01m\\n\u001B[39;00m\u001B[38;5;132;01m{\u001B[39;00merr\u001B[38;5;241m.\u001B[39mdecode(\u001B[38;5;124m'\u001B[39m\u001B[38;5;124mutf8\u001B[39m\u001B[38;5;124m'\u001B[39m,\u001B[38;5;250m \u001B[39m\u001B[38;5;124m'\u001B[39m\u001B[38;5;124mignore\u001B[39m\u001B[38;5;124m'\u001B[39m)\u001B[38;5;132;01m}\u001B[39;00m\u001B[38;5;124m\"\u001B[39m\n\u001B[1;32m    613\u001B[0m     )\n",
      "\u001B[0;31mPDFInfoNotInstalledError\u001B[0m: Unable to get page count. Is poppler installed and in PATH?"
     ]
    }
   ],
   "execution_count": 8
  },
  {
   "metadata": {
    "ExecuteTime": {
     "end_time": "2025-01-24T01:47:53.622926Z",
     "start_time": "2025-01-24T01:47:52.481991Z"
    }
   },
   "cell_type": "code",
   "source": [
    "# This code is generated with ChatGPT\n",
    "from PIL import Image\n",
    "import pytesseract\n",
    "\n",
    "# 画像ファイルのパス\n",
    "image_path = 'resource/kagyuko.png'\n",
    "\n",
    "# 画像を開く\n",
    "image = Image.open(image_path)\n",
    "\n",
    "# OCR処理（日本語+縦書きモード）\n",
    "# `--psm 5` は縦書き向け設定\n",
    "text = pytesseract.image_to_string(image, lang='jpn', config='--psm 5')\n",
    "\n",
    "# 結果を出力\n",
    "print(\"OCR結果:\")\n",
    "print(text)"
   ],
   "id": "c0c2e21192f270f",
   "outputs": [
    {
     "ename": "TesseractNotFoundError",
     "evalue": "tesseract is not installed or it's not in your PATH. See README file for more information.",
     "output_type": "error",
     "traceback": [
      "\u001B[0;31m---------------------------------------------------------------------------\u001B[0m",
      "\u001B[0;31mFileNotFoundError\u001B[0m                         Traceback (most recent call last)",
      "File \u001B[0;32m/Library/Frameworks/Python.framework/Versions/3.9/lib/python3.9/site-packages/pytesseract/pytesseract.py:275\u001B[0m, in \u001B[0;36mrun_tesseract\u001B[0;34m(input_filename, output_filename_base, extension, lang, config, nice, timeout)\u001B[0m\n\u001B[1;32m    274\u001B[0m \u001B[38;5;28;01mtry\u001B[39;00m:\n\u001B[0;32m--> 275\u001B[0m     proc \u001B[38;5;241m=\u001B[39m \u001B[43msubprocess\u001B[49m\u001B[38;5;241;43m.\u001B[39;49m\u001B[43mPopen\u001B[49m\u001B[43m(\u001B[49m\u001B[43mcmd_args\u001B[49m\u001B[43m,\u001B[49m\u001B[43m \u001B[49m\u001B[38;5;241;43m*\u001B[39;49m\u001B[38;5;241;43m*\u001B[39;49m\u001B[43msubprocess_args\u001B[49m\u001B[43m(\u001B[49m\u001B[43m)\u001B[49m\u001B[43m)\u001B[49m\n\u001B[1;32m    276\u001B[0m \u001B[38;5;28;01mexcept\u001B[39;00m \u001B[38;5;167;01mOSError\u001B[39;00m \u001B[38;5;28;01mas\u001B[39;00m e:\n",
      "File \u001B[0;32m/Library/Frameworks/Python.framework/Versions/3.9/lib/python3.9/subprocess.py:951\u001B[0m, in \u001B[0;36mPopen.__init__\u001B[0;34m(self, args, bufsize, executable, stdin, stdout, stderr, preexec_fn, close_fds, shell, cwd, env, universal_newlines, startupinfo, creationflags, restore_signals, start_new_session, pass_fds, user, group, extra_groups, encoding, errors, text, umask)\u001B[0m\n\u001B[1;32m    948\u001B[0m             \u001B[38;5;28mself\u001B[39m\u001B[38;5;241m.\u001B[39mstderr \u001B[38;5;241m=\u001B[39m io\u001B[38;5;241m.\u001B[39mTextIOWrapper(\u001B[38;5;28mself\u001B[39m\u001B[38;5;241m.\u001B[39mstderr,\n\u001B[1;32m    949\u001B[0m                     encoding\u001B[38;5;241m=\u001B[39mencoding, errors\u001B[38;5;241m=\u001B[39merrors)\n\u001B[0;32m--> 951\u001B[0m     \u001B[38;5;28;43mself\u001B[39;49m\u001B[38;5;241;43m.\u001B[39;49m\u001B[43m_execute_child\u001B[49m\u001B[43m(\u001B[49m\u001B[43margs\u001B[49m\u001B[43m,\u001B[49m\u001B[43m \u001B[49m\u001B[43mexecutable\u001B[49m\u001B[43m,\u001B[49m\u001B[43m \u001B[49m\u001B[43mpreexec_fn\u001B[49m\u001B[43m,\u001B[49m\u001B[43m \u001B[49m\u001B[43mclose_fds\u001B[49m\u001B[43m,\u001B[49m\n\u001B[1;32m    952\u001B[0m \u001B[43m                        \u001B[49m\u001B[43mpass_fds\u001B[49m\u001B[43m,\u001B[49m\u001B[43m \u001B[49m\u001B[43mcwd\u001B[49m\u001B[43m,\u001B[49m\u001B[43m \u001B[49m\u001B[43menv\u001B[49m\u001B[43m,\u001B[49m\n\u001B[1;32m    953\u001B[0m \u001B[43m                        \u001B[49m\u001B[43mstartupinfo\u001B[49m\u001B[43m,\u001B[49m\u001B[43m \u001B[49m\u001B[43mcreationflags\u001B[49m\u001B[43m,\u001B[49m\u001B[43m \u001B[49m\u001B[43mshell\u001B[49m\u001B[43m,\u001B[49m\n\u001B[1;32m    954\u001B[0m \u001B[43m                        \u001B[49m\u001B[43mp2cread\u001B[49m\u001B[43m,\u001B[49m\u001B[43m \u001B[49m\u001B[43mp2cwrite\u001B[49m\u001B[43m,\u001B[49m\n\u001B[1;32m    955\u001B[0m \u001B[43m                        \u001B[49m\u001B[43mc2pread\u001B[49m\u001B[43m,\u001B[49m\u001B[43m \u001B[49m\u001B[43mc2pwrite\u001B[49m\u001B[43m,\u001B[49m\n\u001B[1;32m    956\u001B[0m \u001B[43m                        \u001B[49m\u001B[43merrread\u001B[49m\u001B[43m,\u001B[49m\u001B[43m \u001B[49m\u001B[43merrwrite\u001B[49m\u001B[43m,\u001B[49m\n\u001B[1;32m    957\u001B[0m \u001B[43m                        \u001B[49m\u001B[43mrestore_signals\u001B[49m\u001B[43m,\u001B[49m\n\u001B[1;32m    958\u001B[0m \u001B[43m                        \u001B[49m\u001B[43mgid\u001B[49m\u001B[43m,\u001B[49m\u001B[43m \u001B[49m\u001B[43mgids\u001B[49m\u001B[43m,\u001B[49m\u001B[43m \u001B[49m\u001B[43muid\u001B[49m\u001B[43m,\u001B[49m\u001B[43m \u001B[49m\u001B[43mumask\u001B[49m\u001B[43m,\u001B[49m\n\u001B[1;32m    959\u001B[0m \u001B[43m                        \u001B[49m\u001B[43mstart_new_session\u001B[49m\u001B[43m)\u001B[49m\n\u001B[1;32m    960\u001B[0m \u001B[38;5;28;01mexcept\u001B[39;00m:\n\u001B[1;32m    961\u001B[0m     \u001B[38;5;66;03m# Cleanup if the child failed starting.\u001B[39;00m\n",
      "File \u001B[0;32m/Library/Frameworks/Python.framework/Versions/3.9/lib/python3.9/subprocess.py:1821\u001B[0m, in \u001B[0;36mPopen._execute_child\u001B[0;34m(self, args, executable, preexec_fn, close_fds, pass_fds, cwd, env, startupinfo, creationflags, shell, p2cread, p2cwrite, c2pread, c2pwrite, errread, errwrite, restore_signals, gid, gids, uid, umask, start_new_session)\u001B[0m\n\u001B[1;32m   1820\u001B[0m         err_msg \u001B[38;5;241m=\u001B[39m os\u001B[38;5;241m.\u001B[39mstrerror(errno_num)\n\u001B[0;32m-> 1821\u001B[0m     \u001B[38;5;28;01mraise\u001B[39;00m child_exception_type(errno_num, err_msg, err_filename)\n\u001B[1;32m   1822\u001B[0m \u001B[38;5;28;01mraise\u001B[39;00m child_exception_type(err_msg)\n",
      "\u001B[0;31mFileNotFoundError\u001B[0m: [Errno 2] No such file or directory: 'tesseract'",
      "\nDuring handling of the above exception, another exception occurred:\n",
      "\u001B[0;31mTesseractNotFoundError\u001B[0m                    Traceback (most recent call last)",
      "Cell \u001B[0;32mIn[4], line 13\u001B[0m\n\u001B[1;32m      9\u001B[0m image \u001B[38;5;241m=\u001B[39m Image\u001B[38;5;241m.\u001B[39mopen(image_path)\n\u001B[1;32m     11\u001B[0m \u001B[38;5;66;03m# OCR処理（日本語+縦書きモード）\u001B[39;00m\n\u001B[1;32m     12\u001B[0m \u001B[38;5;66;03m# `--psm 5` は縦書き向け設定\u001B[39;00m\n\u001B[0;32m---> 13\u001B[0m text \u001B[38;5;241m=\u001B[39m \u001B[43mpytesseract\u001B[49m\u001B[38;5;241;43m.\u001B[39;49m\u001B[43mimage_to_string\u001B[49m\u001B[43m(\u001B[49m\u001B[43mimage\u001B[49m\u001B[43m,\u001B[49m\u001B[43m \u001B[49m\u001B[43mlang\u001B[49m\u001B[38;5;241;43m=\u001B[39;49m\u001B[38;5;124;43m'\u001B[39;49m\u001B[38;5;124;43mjpn\u001B[39;49m\u001B[38;5;124;43m'\u001B[39;49m\u001B[43m,\u001B[49m\u001B[43m \u001B[49m\u001B[43mconfig\u001B[49m\u001B[38;5;241;43m=\u001B[39;49m\u001B[38;5;124;43m'\u001B[39;49m\u001B[38;5;124;43m--psm 5\u001B[39;49m\u001B[38;5;124;43m'\u001B[39;49m\u001B[43m)\u001B[49m\n\u001B[1;32m     15\u001B[0m \u001B[38;5;66;03m# 結果を出力\u001B[39;00m\n\u001B[1;32m     16\u001B[0m \u001B[38;5;28mprint\u001B[39m(\u001B[38;5;124m\"\u001B[39m\u001B[38;5;124mOCR結果:\u001B[39m\u001B[38;5;124m\"\u001B[39m)\n",
      "File \u001B[0;32m/Library/Frameworks/Python.framework/Versions/3.9/lib/python3.9/site-packages/pytesseract/pytesseract.py:486\u001B[0m, in \u001B[0;36mimage_to_string\u001B[0;34m(image, lang, config, nice, output_type, timeout)\u001B[0m\n\u001B[1;32m    481\u001B[0m \u001B[38;5;250m\u001B[39m\u001B[38;5;124;03m\"\"\"\u001B[39;00m\n\u001B[1;32m    482\u001B[0m \u001B[38;5;124;03mReturns the result of a Tesseract OCR run on the provided image to string\u001B[39;00m\n\u001B[1;32m    483\u001B[0m \u001B[38;5;124;03m\"\"\"\u001B[39;00m\n\u001B[1;32m    484\u001B[0m args \u001B[38;5;241m=\u001B[39m [image, \u001B[38;5;124m'\u001B[39m\u001B[38;5;124mtxt\u001B[39m\u001B[38;5;124m'\u001B[39m, lang, config, nice, timeout]\n\u001B[0;32m--> 486\u001B[0m \u001B[38;5;28;01mreturn\u001B[39;00m \u001B[43m{\u001B[49m\n\u001B[1;32m    487\u001B[0m \u001B[43m    \u001B[49m\u001B[43mOutput\u001B[49m\u001B[38;5;241;43m.\u001B[39;49m\u001B[43mBYTES\u001B[49m\u001B[43m:\u001B[49m\u001B[43m \u001B[49m\u001B[38;5;28;43;01mlambda\u001B[39;49;00m\u001B[43m:\u001B[49m\u001B[43m \u001B[49m\u001B[43mrun_and_get_output\u001B[49m\u001B[43m(\u001B[49m\u001B[38;5;241;43m*\u001B[39;49m\u001B[43m(\u001B[49m\u001B[43margs\u001B[49m\u001B[43m \u001B[49m\u001B[38;5;241;43m+\u001B[39;49m\u001B[43m \u001B[49m\u001B[43m[\u001B[49m\u001B[38;5;28;43;01mTrue\u001B[39;49;00m\u001B[43m]\u001B[49m\u001B[43m)\u001B[49m\u001B[43m)\u001B[49m\u001B[43m,\u001B[49m\n\u001B[1;32m    488\u001B[0m \u001B[43m    \u001B[49m\u001B[43mOutput\u001B[49m\u001B[38;5;241;43m.\u001B[39;49m\u001B[43mDICT\u001B[49m\u001B[43m:\u001B[49m\u001B[43m \u001B[49m\u001B[38;5;28;43;01mlambda\u001B[39;49;00m\u001B[43m:\u001B[49m\u001B[43m \u001B[49m\u001B[43m{\u001B[49m\u001B[38;5;124;43m'\u001B[39;49m\u001B[38;5;124;43mtext\u001B[39;49m\u001B[38;5;124;43m'\u001B[39;49m\u001B[43m:\u001B[49m\u001B[43m \u001B[49m\u001B[43mrun_and_get_output\u001B[49m\u001B[43m(\u001B[49m\u001B[38;5;241;43m*\u001B[39;49m\u001B[43margs\u001B[49m\u001B[43m)\u001B[49m\u001B[43m}\u001B[49m\u001B[43m,\u001B[49m\n\u001B[1;32m    489\u001B[0m \u001B[43m    \u001B[49m\u001B[43mOutput\u001B[49m\u001B[38;5;241;43m.\u001B[39;49m\u001B[43mSTRING\u001B[49m\u001B[43m:\u001B[49m\u001B[43m \u001B[49m\u001B[38;5;28;43;01mlambda\u001B[39;49;00m\u001B[43m:\u001B[49m\u001B[43m \u001B[49m\u001B[43mrun_and_get_output\u001B[49m\u001B[43m(\u001B[49m\u001B[38;5;241;43m*\u001B[39;49m\u001B[43margs\u001B[49m\u001B[43m)\u001B[49m\u001B[43m,\u001B[49m\n\u001B[1;32m    490\u001B[0m \u001B[43m\u001B[49m\u001B[43m}\u001B[49m\u001B[43m[\u001B[49m\u001B[43moutput_type\u001B[49m\u001B[43m]\u001B[49m\u001B[43m(\u001B[49m\u001B[43m)\u001B[49m\n",
      "File \u001B[0;32m/Library/Frameworks/Python.framework/Versions/3.9/lib/python3.9/site-packages/pytesseract/pytesseract.py:489\u001B[0m, in \u001B[0;36mimage_to_string.<locals>.<lambda>\u001B[0;34m()\u001B[0m\n\u001B[1;32m    481\u001B[0m \u001B[38;5;250m\u001B[39m\u001B[38;5;124;03m\"\"\"\u001B[39;00m\n\u001B[1;32m    482\u001B[0m \u001B[38;5;124;03mReturns the result of a Tesseract OCR run on the provided image to string\u001B[39;00m\n\u001B[1;32m    483\u001B[0m \u001B[38;5;124;03m\"\"\"\u001B[39;00m\n\u001B[1;32m    484\u001B[0m args \u001B[38;5;241m=\u001B[39m [image, \u001B[38;5;124m'\u001B[39m\u001B[38;5;124mtxt\u001B[39m\u001B[38;5;124m'\u001B[39m, lang, config, nice, timeout]\n\u001B[1;32m    486\u001B[0m \u001B[38;5;28;01mreturn\u001B[39;00m {\n\u001B[1;32m    487\u001B[0m     Output\u001B[38;5;241m.\u001B[39mBYTES: \u001B[38;5;28;01mlambda\u001B[39;00m: run_and_get_output(\u001B[38;5;241m*\u001B[39m(args \u001B[38;5;241m+\u001B[39m [\u001B[38;5;28;01mTrue\u001B[39;00m])),\n\u001B[1;32m    488\u001B[0m     Output\u001B[38;5;241m.\u001B[39mDICT: \u001B[38;5;28;01mlambda\u001B[39;00m: {\u001B[38;5;124m'\u001B[39m\u001B[38;5;124mtext\u001B[39m\u001B[38;5;124m'\u001B[39m: run_and_get_output(\u001B[38;5;241m*\u001B[39margs)},\n\u001B[0;32m--> 489\u001B[0m     Output\u001B[38;5;241m.\u001B[39mSTRING: \u001B[38;5;28;01mlambda\u001B[39;00m: \u001B[43mrun_and_get_output\u001B[49m\u001B[43m(\u001B[49m\u001B[38;5;241;43m*\u001B[39;49m\u001B[43margs\u001B[49m\u001B[43m)\u001B[49m,\n\u001B[1;32m    490\u001B[0m }[output_type]()\n",
      "File \u001B[0;32m/Library/Frameworks/Python.framework/Versions/3.9/lib/python3.9/site-packages/pytesseract/pytesseract.py:352\u001B[0m, in \u001B[0;36mrun_and_get_output\u001B[0;34m(image, extension, lang, config, nice, timeout, return_bytes)\u001B[0m\n\u001B[1;32m    341\u001B[0m \u001B[38;5;28;01mwith\u001B[39;00m save(image) \u001B[38;5;28;01mas\u001B[39;00m (temp_name, input_filename):\n\u001B[1;32m    342\u001B[0m     kwargs \u001B[38;5;241m=\u001B[39m {\n\u001B[1;32m    343\u001B[0m         \u001B[38;5;124m'\u001B[39m\u001B[38;5;124minput_filename\u001B[39m\u001B[38;5;124m'\u001B[39m: input_filename,\n\u001B[1;32m    344\u001B[0m         \u001B[38;5;124m'\u001B[39m\u001B[38;5;124moutput_filename_base\u001B[39m\u001B[38;5;124m'\u001B[39m: temp_name,\n\u001B[0;32m   (...)\u001B[0m\n\u001B[1;32m    349\u001B[0m         \u001B[38;5;124m'\u001B[39m\u001B[38;5;124mtimeout\u001B[39m\u001B[38;5;124m'\u001B[39m: timeout,\n\u001B[1;32m    350\u001B[0m     }\n\u001B[0;32m--> 352\u001B[0m     \u001B[43mrun_tesseract\u001B[49m\u001B[43m(\u001B[49m\u001B[38;5;241;43m*\u001B[39;49m\u001B[38;5;241;43m*\u001B[39;49m\u001B[43mkwargs\u001B[49m\u001B[43m)\u001B[49m\n\u001B[1;32m    353\u001B[0m     \u001B[38;5;28;01mreturn\u001B[39;00m _read_output(\n\u001B[1;32m    354\u001B[0m         \u001B[38;5;124mf\u001B[39m\u001B[38;5;124m\"\u001B[39m\u001B[38;5;132;01m{\u001B[39;00mkwargs[\u001B[38;5;124m'\u001B[39m\u001B[38;5;124moutput_filename_base\u001B[39m\u001B[38;5;124m'\u001B[39m]\u001B[38;5;132;01m}\u001B[39;00m\u001B[38;5;132;01m{\u001B[39;00mextsep\u001B[38;5;132;01m}\u001B[39;00m\u001B[38;5;132;01m{\u001B[39;00mextension\u001B[38;5;132;01m}\u001B[39;00m\u001B[38;5;124m\"\u001B[39m,\n\u001B[1;32m    355\u001B[0m         return_bytes,\n\u001B[1;32m    356\u001B[0m     )\n",
      "File \u001B[0;32m/Library/Frameworks/Python.framework/Versions/3.9/lib/python3.9/site-packages/pytesseract/pytesseract.py:280\u001B[0m, in \u001B[0;36mrun_tesseract\u001B[0;34m(input_filename, output_filename_base, extension, lang, config, nice, timeout)\u001B[0m\n\u001B[1;32m    278\u001B[0m         \u001B[38;5;28;01mraise\u001B[39;00m\n\u001B[1;32m    279\u001B[0m     \u001B[38;5;28;01melse\u001B[39;00m:\n\u001B[0;32m--> 280\u001B[0m         \u001B[38;5;28;01mraise\u001B[39;00m TesseractNotFoundError()\n\u001B[1;32m    282\u001B[0m \u001B[38;5;28;01mwith\u001B[39;00m timeout_manager(proc, timeout) \u001B[38;5;28;01mas\u001B[39;00m error_string:\n\u001B[1;32m    283\u001B[0m     \u001B[38;5;28;01mif\u001B[39;00m proc\u001B[38;5;241m.\u001B[39mreturncode:\n",
      "\u001B[0;31mTesseractNotFoundError\u001B[0m: tesseract is not installed or it's not in your PATH. See README file for more information."
     ]
    }
   ],
   "execution_count": 4
  },
  {
   "metadata": {},
   "cell_type": "markdown",
   "source": [
    "本テキストのOCRには，思いつく限り以下の2通りのアプローチがあると思う．\n",
    "1. 文字の座標を認識してから，その文字一字一字について認識精度を上げる\n",
    "2. 画像全体を機械学習にかけ，文章を抽出するように訓練する\n",
    "\n",
    "とりうる方法としては1が学習精度を上げるのに貢献しそう．なぜならば，一字一字の認識精度を上げる方法では画像全体を学習させる時に比べて元データ（画像）と正解データ（文字情報）の対応がはっきりしているから．\n",
    "まずは文字の位置を正確に認識させてから，それら一字一字について精度を上げることを考えた萌芽，少ない計算量でも精度を上げられそう．\n",
    "→多分ChatGPTなどは2の方法を用いているのだろう．"
   ],
   "id": "69355c91c5ac62d"
  },
  {
   "metadata": {
    "ExecuteTime": {
     "end_time": "2025-01-18T02:57:55.534408Z",
     "start_time": "2025-01-18T02:57:55.455573Z"
    }
   },
   "cell_type": "code",
   "source": [
    "import cv2\n",
    "import pytesseract\n",
    "from pytesseract import Output\n",
    "\n",
    "# Ensure pytesseract points to the tesseract executable\n",
    "pytesseract.pytesseract.tesseract_cmd = r'C:\\Program Files\\Tesseract-OCR\\tesseract.exe'  # Adjust for your installation path\n",
    "\n",
    "def recognize_text_and_draw_boxes(image_path, lang='jpn_vert'):\n",
    "    # Read the image\n",
    "    image = cv2.imread(image_path)\n",
    "\n",
    "    # Convert to grayscale for better OCR accuracy\n",
    "    gray = cv2.cvtColor(image, cv2.COLOR_BGR2GRAY)\n",
    "\n",
    "    # Perform OCR with vertical Japanese language\n",
    "    data = pytesseract.image_to_data(gray, lang=lang, output_type=Output.DICT)\n",
    "\n",
    "    # Iterate over each detected text box\n",
    "    for i in range(len(data['text'])):\n",
    "        text = data['text'][i].strip()\n",
    "        if text:  # Only draw boxes for detected text\n",
    "            x, y, w, h = data['left'][i], data['top'][i], data['width'][i], data['height'][i]\n",
    "            cv2.rectangle(image, (x, y), (x + w, y + h), (0, 255, 0), 2)\n",
    "\n",
    "    # Show the image with bounding boxes\n",
    "    cv2.imshow('Recognized Text with Bounding Boxes', image)\n",
    "    cv2.waitKey(0)\n",
    "    cv2.destroyAllWindows()\n",
    "\n",
    "# Replace 'vertical_japanese_image.jpg' with your image path\n",
    "image_path = 'resource/kagyuko.png'\n",
    "recognize_text_and_draw_boxes(image_path)"
   ],
   "id": "8588478d01d81bd7",
   "outputs": [
    {
     "ename": "ModuleNotFoundError",
     "evalue": "No module named 'cv2'",
     "output_type": "error",
     "traceback": [
      "\u001B[0;31m---------------------------------------------------------------------------\u001B[0m",
      "\u001B[0;31mModuleNotFoundError\u001B[0m                       Traceback (most recent call last)",
      "Cell \u001B[0;32mIn[8], line 1\u001B[0m\n\u001B[0;32m----> 1\u001B[0m \u001B[38;5;28;01mimport\u001B[39;00m\u001B[38;5;250m \u001B[39m\u001B[38;5;21;01mcv2\u001B[39;00m\n\u001B[1;32m      2\u001B[0m \u001B[38;5;28;01mimport\u001B[39;00m\u001B[38;5;250m \u001B[39m\u001B[38;5;21;01mpytesseract\u001B[39;00m\n\u001B[1;32m      3\u001B[0m \u001B[38;5;28;01mfrom\u001B[39;00m\u001B[38;5;250m \u001B[39m\u001B[38;5;21;01mpytesseract\u001B[39;00m\u001B[38;5;250m \u001B[39m\u001B[38;5;28;01mimport\u001B[39;00m Output\n",
      "\u001B[0;31mModuleNotFoundError\u001B[0m: No module named 'cv2'"
     ]
    }
   ],
   "execution_count": 8
  },
  {
   "metadata": {
    "ExecuteTime": {
     "end_time": "2025-01-18T02:57:53.226393Z",
     "start_time": "2025-01-18T02:57:53.216511Z"
    }
   },
   "cell_type": "code",
   "source": "",
   "id": "b8f24a9c0a69ed0",
   "outputs": [],
   "execution_count": null
  },
  {
   "metadata": {},
   "cell_type": "code",
   "outputs": [],
   "execution_count": null,
   "source": "",
   "id": "6c3bd42156f89cce"
  }
 ],
 "metadata": {
  "kernelspec": {
   "display_name": "Python 3",
   "language": "python",
   "name": "python3"
  },
  "language_info": {
   "codemirror_mode": {
    "name": "ipython",
    "version": 2
   },
   "file_extension": ".py",
   "mimetype": "text/x-python",
   "name": "python",
   "nbconvert_exporter": "python",
   "pygments_lexer": "ipython2",
   "version": "2.7.6"
  }
 },
 "nbformat": 4,
 "nbformat_minor": 5
}
